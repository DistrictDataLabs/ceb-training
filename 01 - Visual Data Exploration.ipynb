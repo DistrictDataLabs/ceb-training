{
 "cells": [
  {
   "cell_type": "markdown",
   "metadata": {},
   "source": [
    "# Day 01 - Visual Data Exploration \n",
    "\n",
    "Today's workshop will cover the following topics:\n",
    "\n",
    "- Intro to matplotlib for visualization (the pyplot API)\n",
    "- Data Frames for visual exploration\n",
    "- Pandas plotting API\n",
    "- Seaborn for visual statistical analysis"
   ]
  },
  {
   "cell_type": "markdown",
   "metadata": {},
   "source": [
    "## matplotlib \n",
    "\n",
    "![The matplotlib Component Model](figures/matplotlib_components.png)"
   ]
  }
 ],
 "metadata": {
  "kernelspec": {
   "display_name": "Python 3",
   "language": "python",
   "name": "python3"
  },
  "language_info": {
   "codemirror_mode": {
    "name": "ipython",
    "version": 3
   },
   "file_extension": ".py",
   "mimetype": "text/x-python",
   "name": "python",
   "nbconvert_exporter": "python",
   "pygments_lexer": "ipython3",
   "version": "3.5.1"
  }
 },
 "nbformat": 4,
 "nbformat_minor": 0
}
