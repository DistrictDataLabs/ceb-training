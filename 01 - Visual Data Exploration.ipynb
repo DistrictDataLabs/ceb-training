{
 "cells": [
  {
   "cell_type": "markdown",
   "metadata": {},
   "source": [
    "# Day 01 - Visual Data Exploration \n",
    "\n",
    "Today's workshop will cover the following topics:\n",
    "\n",
    "- Intro to matplotlib for visualization (the pyplot API)\n",
    "- Data Frames for visual exploration\n",
    "- Pandas plotting API\n",
    "- Seaborn for visual statistical analysis\n",
    "\n",
    "The schedule is as follows: \n",
    "\n",
    "- Introduction to matplotlib (35 mins) \n",
    "- Introduction to Pandas (35 mins)\n",
    "- Introduction to Seaborn (30 mins) \n",
    "- Guided Workshop (40 mins) "
   ]
  },
  {
   "cell_type": "markdown",
   "metadata": {},
   "source": [
    "## matplotlib \n",
    "\n",
    "matplotlib is a 2D Python plotting library that is meant to create _publication quality figures_ in both hardcopy and interactive environments. It is the cornerstone of data visualization in Python and as a result is a fiscally sponsored project of the [NumFocus](http://www.numfocus.org/) organization. matplotlib is: \n",
    "\n",
    "- Open Source and Free \n",
    "- Platform Agnostic\n",
    "- A General Visual Framework \n",
    "- Optimized for Scientific Visualization \n",
    "\n",
    "The primary way to interact with matplotlib is through the `pyplot` API, which replaced the more proceedural `pylab` API which was intended to emulate MATLAB graphics commands. (**Note:** the `pylab` API is no longer supported and you shouldn't use it). The `pyplot` API is a _simple_ interface to the drawing components provided by matplotlib, as shown in the component architecture below:\n",
    "\n",
    "![The matplotlib Component Model](figures/matplotlib_components.png)\n",
    "\n",
    "<p><center><small>The above figure is from McGreggor, Duncan M. _Mastering matplotlib_. Packt Publishing Ltd, 2015.</small></center></p>\n",
    "\n",
    "In this notebook we'll explore using matplotlib in noteboook mode. This allows simple interaction of the kind that is provided in the Tk window mode, which I'll also demonstrate. In order to set matplotlib's mode, we must use the Jupyter notebook magic functions:\n",
    "\n",
    "    %matplotlib notebook \n",
    "    %matplotlib inline \n",
    "    \n",
    "Note: the matplotlib inline function simply renders the figure created by the cell as a static image. This is useful for notebooks who you expect to \"run all\" cells routinely. Note also that this affects both Pandas and Seaborn rendering as well. \n",
    "\n",
    "The best thing for the magic function to work is to have it first thing in the notebook, we'll also import our packages into the namespace using the standard short names:"
   ]
  },
  {
   "cell_type": "code",
   "execution_count": null,
   "metadata": {
    "collapsed": true
   },
   "outputs": [],
   "source": [
    "%matplotlib notebook \n",
    "\n",
    "import numpy as np\n",
    "import matplotlib.pyplot as plt "
   ]
  },
  {
   "cell_type": "markdown",
   "metadata": {},
   "source": [
    "matplotlib comes with default functions that allow customizing nearly every part of the figure. This is both a benefit and a barrier: you have fine grained control at the cost of copmlexity. Generally speaking the matplotlib defaults are good, considering visibility for colorblind folks, printing in black and white, etc. Importantly in the upcoming 2.0 release, the styles are going to be updated to look even better. \n",
    "\n",
    "The basic interaction of matplotlib is to pass data to functions in the `plt` module:"
   ]
  },
  {
   "cell_type": "code",
   "execution_count": null,
   "metadata": {
    "collapsed": false
   },
   "outputs": [],
   "source": [
    "# Create the X data points as a numpy array \n",
    "X = np.linspace(-10, 10, 255)\n",
    "\n",
    "# Compute two quadratic functions \n",
    "Y1 = 2*X ** 2 + 10\n",
    "Y2 = 3*X ** 2 + 50 \n",
    "\n",
    "plt.plot(X, Y1)\n",
    "plt.plot(X, Y2)"
   ]
  },
  {
   "cell_type": "markdown",
   "metadata": {},
   "source": [
    "The `plt.plot` function does a lot of work on our behalf: it initializes the figure, creates a subplot with axes, then computes and draws two `Line2D` objects. Because we're in `notebook` mode, the current figure is displayed in an interactive fashion and can be explored until \"shutdown\". \n",
    "\n",
    "Key points:\n",
    "\n",
    "- There is a global figure that is drawn on \n",
    "- The objects that are returned from these functions can be directly manipulated \n",
    "- Outside of a notebook nothing will be rendered until `plt.show` \n",
    "\n",
    "Just note, to get the same functionality in a Python script you'll have to tell `pyplot` to render the figure, either to an interactive backend like Tk or to an image, either raster or SVG:\n",
    "\n",
    "    plt.show() \n",
    "    plt.savefig('myfig.pdf') \n",
    "\n",
    "The goal of `pyplot` has always been to give as simple plotting functions as possible, so that figures can be drawn without much effort. In practice, it is easy to get simple graphs plotted, but much tougher to configure them as needed. \n",
    "\n",
    "Let's now look at all the steps it would take to draw this from scratch, which also demonstrate the configuration control you have over the figure."
   ]
  },
  {
   "cell_type": "code",
   "execution_count": null,
   "metadata": {
    "collapsed": false
   },
   "outputs": [],
   "source": [
    "# Create a new figure of size 8x6 points, using 72 dots per inch \n",
    "plt.figure(figsize=(8,6), dpi=72)\n",
    "\n",
    "# Create a new subplot from a 1x1 grid \n",
    "plt.subplot(111)\n",
    "\n",
    "# Create the data to plot \n",
    "X = np.linspace(-10, 10, 255)\n",
    "Y1 = 2*X ** 2 + 10\n",
    "Y2 = 3*X ** 2 + 50 \n",
    "\n",
    "# Plot the first quadratic using a blue color with a continuous line of 1px\n",
    "plt.plot(X, Y1, color='blue', linewidth=1.0, linestyle='-')\n",
    "\n",
    "# Plot the second quadratic using a green color with a continuous line of 1px\n",
    "plt.plot(X, Y2, color='green', linewidth=1.0, linestyle='-')\n",
    "\n",
    "# Set the X limits \n",
    "plt.xlim(-10, 10)\n",
    "\n",
    "# Set the X ticks \n",
    "plt.xticks(np.linspace(-10, 10, 9, endpoint=True))\n",
    "\n",
    "# Set the Y limits \n",
    "plt.ylim(0, 350)\n",
    "\n",
    "# Set the Y ticks \n",
    "plt.yticks(np.linspace(0, 350, 5, endpoint=True))\n",
    "\n",
    "# Save the figure to disk \n",
    "plt.savefig(\"figures/quadratics.png\")"
   ]
  },
  {
   "cell_type": "code",
   "execution_count": null,
   "metadata": {
    "collapsed": false
   },
   "outputs": [],
   "source": [
    "# Create the data to plot \n",
    "# This data will be referenced for the next plots below\n",
    "# For Jupyter notebooks, pay attention to variables! \n",
    "\n",
    "X = np.linspace(-10, 10, 255)\n",
    "Y1 = 2*X ** 2 + 10\n",
    "Y2 = 3*X ** 2 + 50 "
   ]
  },
  {
   "cell_type": "markdown",
   "metadata": {},
   "source": [
    "We'll look at each of these steps in detail in the next few boxes.\n",
    "\n",
    "### Colors and style \n",
    "\n",
    "We can directly pass colors and style to each of the drawing functions in the `pyplot` API. The arguments for color and linestyle can either be full words, e.g. \"blue\" or \"dashed\" or they can be shortcodes, for example 'b' or '--'. \n",
    "\n",
    "The color cycle in matplotlib determines which colors will be used for each new element drawn to the graph. The cycle is keyed to the short codes: 'bgrmyck' which stands for:\n",
    "\n",
    "    blue green red maroon yellow cyan key \n",
    "    \n",
    "A quick visualization of these colors is as follows:"
   ]
  },
  {
   "cell_type": "code",
   "execution_count": null,
   "metadata": {
    "collapsed": false
   },
   "outputs": [],
   "source": [
    "from matplotlib.colors import ListedColormap\n",
    "\n",
    "colors = 'bgrmyck'\n",
    "fig, ax = plt.subplots(1, 1, figsize=(7, 1))\n",
    "ax.imshow(np.arange(7).reshape(1,7), cmap=ListedColormap(list(colors)), interpolation=\"nearest\", aspect=\"auto\")\n",
    "ax.set_xticks(np.arange(7) - .5)\n",
    "ax.set_yticks([-0.5,0.5])\n",
    "ax.set_xticklabels([])\n",
    "ax.set_yticklabels([])"
   ]
  },
  {
   "cell_type": "markdown",
   "metadata": {},
   "source": [
    "The default style is currently 'ggplot' -- though this is going to be updated soon. You can set the style of the graphs, or even provide your own CSS style sheet with the `plt.style.use` function: "
   ]
  },
  {
   "cell_type": "code",
   "execution_count": null,
   "metadata": {
    "collapsed": false
   },
   "outputs": [],
   "source": [
    "# plt.style.use('fivethirtyeight')\n",
    "\n",
    "# Note that I'm going to use temporary styling so I don't mess up the notebook! \n",
    "with plt.style.context(('fivethirtyeight')):\n",
    "    plt.plot(X, Y1)\n",
    "    plt.plot(X, Y2)"
   ]
  },
  {
   "cell_type": "code",
   "execution_count": null,
   "metadata": {
    "collapsed": false
   },
   "outputs": [],
   "source": [
    "# To see the available styles:\n",
    "for style in plt.style.available: print(\"- {}\".format(style))"
   ]
  },
  {
   "cell_type": "markdown",
   "metadata": {},
   "source": [
    "Note also that styles can be composed together by passing a list. Styles farther to the right will override styles to the left. \n",
    "\n",
    "Line styles can be set using the following shortcodes (note that marker styles for scatter plots can also be set using filled and point shortcodes):\n",
    "\n",
    "![Line Styles](figures/linestyles.png)\n",
    "\n",
    "So back to our original graphs we can convert the figure to have different colors and styles:"
   ]
  },
  {
   "cell_type": "code",
   "execution_count": null,
   "metadata": {
    "collapsed": false
   },
   "outputs": [],
   "source": [
    "plt.figure(figsize=(9,6))\n",
    "plt.plot(X, Y1, color=\"b\", linewidth=2.5, linestyle=\"-\")\n",
    "plt.plot(X, Y2, color=\"r\", linewidth=2.5, linestyle=\"-\")"
   ]
  },
  {
   "cell_type": "markdown",
   "metadata": {},
   "source": [
    "We can also change the x and y limits to put some space into out graph:"
   ]
  },
  {
   "cell_type": "code",
   "execution_count": null,
   "metadata": {
    "collapsed": false
   },
   "outputs": [],
   "source": [
    "plt.figure(figsize=(9,6))\n",
    "plt.plot(X, Y1, color=\"b\", linewidth=2.5, linestyle=\"-\")\n",
    "plt.plot(X, Y2, color=\"r\", linewidth=2.5, linestyle=\"-\")\n",
    "\n",
    "plt.xlim(X.min()*1.1, X.max()*1.1)\n",
    "plt.ylim(Y1.min()*-1.1, Y2.max()*1.1)"
   ]
  },
  {
   "cell_type": "markdown",
   "metadata": {},
   "source": [
    "We can add a legend and a title:"
   ]
  },
  {
   "cell_type": "code",
   "execution_count": null,
   "metadata": {
    "collapsed": false
   },
   "outputs": [],
   "source": [
    "plt.figure(figsize=(9,6))\n",
    "plt.plot(X, Y1, color=\"b\", linewidth=2.5, linestyle=\"-\", label=\"Y1\")\n",
    "plt.plot(X, Y2, color=\"r\", linewidth=2.5, linestyle=\"-\", label=\"Y2\")\n",
    "\n",
    "plt.xlim(X.min()*1.1, X.max()*1.1)\n",
    "plt.ylim(Y1.min()*-1.1, Y2.max()*1.1)\n",
    "\n",
    "plt.title(\"Two Quadratic Curves\")\n",
    "plt.legend(loc='best')"
   ]
  },
  {
   "cell_type": "markdown",
   "metadata": {},
   "source": [
    "And annotate some po ints on our graph:"
   ]
  },
  {
   "cell_type": "code",
   "execution_count": null,
   "metadata": {
    "collapsed": false
   },
   "outputs": [],
   "source": [
    "plt.figure(figsize=(9,6))\n",
    "plt.plot(X, Y1, color=\"b\", linewidth=2.5, linestyle=\"-\", label=\"Y1\")\n",
    "plt.plot(X, Y2, color=\"r\", linewidth=2.5, linestyle=\"-\", label=\"Y2\")\n",
    "\n",
    "plt.xlim(X.min()*1.1, X.max()*1.1)\n",
    "plt.ylim(0, Y2.max()*1.1)\n",
    "\n",
    "plt.title(\"Two Quadratic Curves\")\n",
    "plt.legend(loc='best')\n",
    "\n",
    "# Annotate the blue line \n",
    "x = 6 \n",
    "y = 2*x ** 2 + 10\n",
    "plt.plot([x,x], [0, y], color='blue', linewidth=1.5, linestyle='--')\n",
    "plt.scatter([x,], [y,], color='blue', s=50, marker='D')\n",
    "\n",
    "plt.annotate(\n",
    "    r'$2x^2+10={}$'.format(y), xy=(x,y), xycoords='data', xytext=(10,-50), \n",
    "    fontsize=16, textcoords='offset points',\n",
    "    arrowprops=dict(arrowstyle=\"->\", connectionstyle=\"arc3,rad=.2\")\n",
    ")\n",
    "\n",
    "# Annotate the red line\n",
    "x = -3\n",
    "y = 3*x ** 2 + 50\n",
    "plt.plot([x,x], [0, y], color='red', linewidth=1.5, linestyle='--')\n",
    "plt.scatter([x,], [y,], color='red', s=50, marker='s')\n",
    "\n",
    "plt.annotate(\n",
    "    r'$3x^2+50={}$'.format(y), xy=(x,y), xycoords='data', xytext=(10,50), \n",
    "    fontsize=16, textcoords='offset points',\n",
    "    arrowprops=dict(arrowstyle=\"->\", connectionstyle=\"arc3,rad=.2\")\n",
    ")"
   ]
  },
  {
   "cell_type": "markdown",
   "metadata": {},
   "source": [
    "### Figures, Subplots, and Axes \n",
    "\n",
    "The figure is the GUI window that displays the entirety of the drawing. Figures are numbered starting from 1, and each new plot has its own figure. Generally speaking though you're only working on one global figure at a time. Figures have several properties that can be configured:\n",
    "\n",
    "- **num**: the number of the figure. \n",
    "- **figsize**: the size of the figure in inches (width, height)\n",
    "- **dpi**: resolution in dots per inch\n",
    "- **facecolor**: the color of the drawing background \n",
    "- **edgecolor**: the color of the edge around the drawing background\n",
    "- **frameon**: draw the figure frame or not \n",
    "\n",
    "Subplots allow you to arrange plots in a rectangular grid. They are specified by the rows and columns as well as the number of the plot (e.g. it's id). The [gridspec](http://matplotlib.sourceforge.net/users/gridspec.html) command gives a much more controlled alternative. \n",
    "\n",
    "![horizontal](figures/subplot-horizontal.png)\n",
    "\n",
    "![vertical](figures/subplot-vertical.png)\n",
    "\n",
    "![grid](figures/subplot-grid.png)\n",
    "\n",
    "Axes are very similar to subplots but allow placement of plots at any location in the figure. This allows more fine grained plot within a plot control, but also the addition of complex images, for example colorbars for heatmaps. Because axes are the primary drawing space, they can also be worked on directly, usually with the `set_[]` style command. \n",
    "\n",
    "![axes](figures/axes.png)\n",
    "\n",
    "![axes](figures/axes-2.png)\n",
    "\n",
    "There are many more commands, more than we can cover in the section. But we'll view them more specifically using Pandas and Seaborn. "
   ]
  },
  {
   "cell_type": "markdown",
   "metadata": {},
   "source": [
    "## Pandas\n",
    "\n",
    "Pandas is an open source Python library that provides high performance _data structures_ for data analysis, in particular the `Series` and `DataFrame` objects. The focus today is not on Pandas, however, but rather on its plotting library. \n",
    "\n",
    "Pandas' plotting library is essentially a wrapper around matplotlib that uses information from the `DataFrame` and series objects in order to provide more detail. "
   ]
  },
  {
   "cell_type": "code",
   "execution_count": null,
   "metadata": {
    "collapsed": true
   },
   "outputs": [],
   "source": [
    "import pandas as pd"
   ]
  },
  {
   "cell_type": "code",
   "execution_count": null,
   "metadata": {
    "collapsed": false
   },
   "outputs": [],
   "source": [
    "# Create a random timeseries object \n",
    "ts = pd.Series(np.random.randn(365), index=pd.date_range('1/1/2010', periods=365))\n",
    "ts = ts.cumsum()\n",
    "ts.plot() "
   ]
  },
  {
   "cell_type": "markdown",
   "metadata": {},
   "source": [
    "Note that `series.plot` and `df.plot` are not exactly the same thing as matplotlib, but in many cases do take the exact same arguments. Let's look at a few Pandas's specific arguments:"
   ]
  },
  {
   "cell_type": "code",
   "execution_count": null,
   "metadata": {
    "collapsed": false
   },
   "outputs": [],
   "source": [
    "df = pd.DataFrame(np.random.randn(365, 4), index=ts.index, columns=list('ABCD'))\n",
    "df = df.cumsum()\n",
    "df.plot();"
   ]
  },
  {
   "cell_type": "code",
   "execution_count": null,
   "metadata": {
    "collapsed": false
   },
   "outputs": [],
   "source": [
    "df = pd.DataFrame(np.random.randn(1000, 2), columns=['B', 'C']).cumsum()\n",
    "df['A'] = pd.Series(list(range(len(df))))\n",
    "df.plot(x='A', y='B')"
   ]
  },
  {
   "cell_type": "markdown",
   "metadata": {},
   "source": [
    "The `kind` argument allows you to specify a wide variety of plots for data:\n",
    "\n",
    "- ‘bar’ or ‘barh’ for bar plots\n",
    "- ‘hist’ for histogram\n",
    "- ‘box’ for boxplot\n",
    "- ‘kde’ or 'density' for density plots\n",
    "- ‘area’ for area plots\n",
    "- ‘scatter’ for scatter plots\n",
    "- ‘hexbin’ for hexagonal bin plots\n",
    "- ‘pie’ for pie plots"
   ]
  },
  {
   "cell_type": "code",
   "execution_count": null,
   "metadata": {
    "collapsed": false
   },
   "outputs": [],
   "source": [
    "df2 = pd.DataFrame(np.random.rand(10, 4), columns=['a', 'b', 'c', 'd'])\n",
    "df2.plot(kind='bar')"
   ]
  },
  {
   "cell_type": "code",
   "execution_count": null,
   "metadata": {
    "collapsed": false
   },
   "outputs": [],
   "source": [
    "df2.plot.bar(stacked=True)"
   ]
  },
  {
   "cell_type": "code",
   "execution_count": null,
   "metadata": {
    "collapsed": false
   },
   "outputs": [],
   "source": [
    "df2.plot(kind='area')"
   ]
  },
  {
   "cell_type": "code",
   "execution_count": null,
   "metadata": {
    "collapsed": false
   },
   "outputs": [],
   "source": [
    "df2.plot.area(stacked=False)"
   ]
  },
  {
   "cell_type": "code",
   "execution_count": null,
   "metadata": {
    "collapsed": false
   },
   "outputs": [],
   "source": [
    "df3 = pd.DataFrame(np.random.rand(25, 4), columns=['a', 'b', 'c', 'd'])\n",
    "ax = df3.plot.scatter(x='a', y='b', color='r', label=\"B\")\n",
    "df3.plot.scatter(x='a', y='c', color='c', ax=ax, label=\"C\")\n",
    "df3.plot.scatter(x='a', y='d', color='g', ax=ax, label=\"D\")"
   ]
  },
  {
   "cell_type": "code",
   "execution_count": null,
   "metadata": {
    "collapsed": false
   },
   "outputs": [],
   "source": [
    "# Add new dimensions such as color and size based on other attributes in the data frame\n",
    "# This creates a bubble plot, points sized based on the 'C' attribute and colors based on 'D'.\n",
    "df3.plot.scatter(x='a', y='b', c=df3['d'], s=df3['c']*200);"
   ]
  },
  {
   "cell_type": "markdown",
   "metadata": {},
   "source": [
    "Hexbin plots can be a useful alternative to scatter plots if your data are too dense to plot each point individually."
   ]
  },
  {
   "cell_type": "code",
   "execution_count": null,
   "metadata": {
    "collapsed": false
   },
   "outputs": [],
   "source": [
    "df = pd.DataFrame(np.random.randn(1000, 2), columns=['a', 'b'])\n",
    "df['b'] = df['b'] + np.arange(1000)\n",
    "df.plot.hexbin(x='a', y='b', gridsize=25)"
   ]
  },
  {
   "cell_type": "markdown",
   "metadata": {},
   "source": [
    "### Higher Dimensional Data Visualization \n",
    "\n",
    "We've already seen that attributes of the plot can allow us to increase the amount of information we add; however we typically say that only 7 attributes can be embedded into a plot:\n",
    "\n",
    "- space (possibly in three dimensions)\n",
    "- color\n",
    "- size\n",
    "- shape \n",
    "- time (slider)\n",
    "\n",
    "Pandas does provide some interesting visualizations for higher dimensional work, though, including SPLOMs, Radviz, and Parallel coordinates"
   ]
  },
  {
   "cell_type": "code",
   "execution_count": null,
   "metadata": {
    "collapsed": false
   },
   "outputs": [],
   "source": [
    "# Load the data\n",
    "import os \n",
    "\n",
    "DATA = os.path.join(\"data\", \"wheat\", \"seeds_dataset.txt\")\n",
    "\n",
    "FEATURES  = [\n",
    "    \"area\",\n",
    "    \"perimeter\",\n",
    "    \"compactness\",\n",
    "    \"length\",\n",
    "    \"width\",\n",
    "    \"asymmetry\",\n",
    "    \"groove\",\n",
    "    \"label\"\n",
    "]\n",
    "\n",
    "LABEL_MAP = {\n",
    "    1: \"Kama\",\n",
    "    2: \"Rosa\",\n",
    "    3: \"Canadian\",\n",
    "}\n",
    "\n",
    "# Read the data into a DataFrame\n",
    "df = pd.read_csv(DATA, sep='\\s+', header=None, names=FEATURES)\n",
    "\n",
    "# Convert class labels into text\n",
    "for k,v in LABEL_MAP.items():\n",
    "    df.ix[df.label == k, 'label'] = v\n",
    "\n",
    "# Describe the dataset\n",
    "print(df.describe())"
   ]
  },
  {
   "cell_type": "code",
   "execution_count": null,
   "metadata": {
    "collapsed": false
   },
   "outputs": [],
   "source": [
    "# Determine the shape of the data\n",
    "print(\"{} instances with {} features\\n\".format(*df.shape))\n",
    "\n",
    "# Determine the frequency of each class\n",
    "print(df.groupby('label')['label'].count())"
   ]
  },
  {
   "cell_type": "code",
   "execution_count": null,
   "metadata": {
    "collapsed": false
   },
   "outputs": [],
   "source": [
    "from pandas.tools.plotting import scatter_matrix\n",
    "scatter_matrix(df, alpha=0.2, figsize=(9,9), diagonal='kde')"
   ]
  },
  {
   "cell_type": "code",
   "execution_count": null,
   "metadata": {
    "collapsed": false
   },
   "outputs": [],
   "source": [
    "from pandas.tools.plotting import parallel_coordinates\n",
    "plt.figure(figsize=(9,9))\n",
    "parallel_coordinates(df, 'label')"
   ]
  },
  {
   "cell_type": "code",
   "execution_count": null,
   "metadata": {
    "collapsed": false
   },
   "outputs": [],
   "source": [
    "from pandas.tools.plotting import radviz\n",
    "plt.figure(figsize=(9,9))\n",
    "radviz(df, 'label')"
   ]
  },
  {
   "cell_type": "markdown",
   "metadata": {},
   "source": [
    "## Seaborn \n",
    "\n",
    "Seaborn is a _statistical_ visualization library, meaning that it embeds both models and data into visualizations, and is intended for visual statistical analysis. It is currently free and open source, written by Michael Waskom while he was at Stanford university. \n",
    "\n",
    "Similar to Pandas, Seaborn wraps matplotlib, and even wraps data frames - but provides higher level abstractions for a bunch of different plots and configurations. "
   ]
  },
  {
   "cell_type": "code",
   "execution_count": null,
   "metadata": {
    "collapsed": false
   },
   "outputs": [],
   "source": [
    "%matplotlib inline\n",
    "import os\n",
    "import pandas as pd\n",
    "import seaborn as sns\n",
    "\n",
    "IRIS = os.path.join(\"data\", \"iris.csv\")\n",
    "data = pd.read_csv(IRIS)\n",
    "\n",
    "sns.set_style('darkgrid')\n",
    "sns.set_palette('deep')\n",
    "sns.set_context('notebook')"
   ]
  },
  {
   "cell_type": "code",
   "execution_count": null,
   "metadata": {
    "collapsed": false
   },
   "outputs": [],
   "source": [
    "sns.pairplot(data, hue='class', diag_kind=\"kde\", size=3)"
   ]
  },
  {
   "cell_type": "code",
   "execution_count": null,
   "metadata": {
    "collapsed": false
   },
   "outputs": [],
   "source": [
    "sns.distplot(data['sepal width'], rug=True)"
   ]
  },
  {
   "cell_type": "code",
   "execution_count": null,
   "metadata": {
    "collapsed": false
   },
   "outputs": [],
   "source": [
    "sns.jointplot(\"petal length\", \"petal width\", data=data, kind='reg', size=6)"
   ]
  },
  {
   "cell_type": "code",
   "execution_count": null,
   "metadata": {
    "collapsed": false
   },
   "outputs": [],
   "source": [
    "sns.boxplot(x='petal length', data=data)"
   ]
  },
  {
   "cell_type": "code",
   "execution_count": null,
   "metadata": {
    "collapsed": false
   },
   "outputs": [],
   "source": [
    "sns.boxplot(data=data)"
   ]
  },
  {
   "cell_type": "code",
   "execution_count": null,
   "metadata": {
    "collapsed": false
   },
   "outputs": [],
   "source": [
    "sns.violinplot(data=data)"
   ]
  },
  {
   "cell_type": "code",
   "execution_count": null,
   "metadata": {
    "collapsed": false
   },
   "outputs": [],
   "source": [
    "sns.swarmplot(data=data)"
   ]
  },
  {
   "cell_type": "code",
   "execution_count": null,
   "metadata": {
    "collapsed": false
   },
   "outputs": [],
   "source": [
    "ax = sns.boxplot(data=data)\n",
    "ax = sns.swarmplot(data=data)"
   ]
  },
  {
   "cell_type": "code",
   "execution_count": null,
   "metadata": {
    "collapsed": false
   },
   "outputs": [],
   "source": [
    "sns.lmplot(x=\"sepal width\", y=\"sepal length\", hue=\"class\", data=data)"
   ]
  },
  {
   "cell_type": "code",
   "execution_count": null,
   "metadata": {
    "collapsed": false
   },
   "outputs": [],
   "source": [
    "sns.lmplot(x=\"sepal width\", y=\"sepal length\", col=\"class\", data=data)"
   ]
  },
  {
   "cell_type": "code",
   "execution_count": null,
   "metadata": {
    "collapsed": false
   },
   "outputs": [],
   "source": [
    "sns.barplot(data=data)"
   ]
  },
  {
   "cell_type": "code",
   "execution_count": null,
   "metadata": {
    "collapsed": false
   },
   "outputs": [],
   "source": [
    "import numpy as np\n",
    "sns.barplot(data=data, estimator=np.median)"
   ]
  }
 ],
 "metadata": {
  "kernelspec": {
   "display_name": "Python 3",
   "language": "python",
   "name": "python3"
  },
  "language_info": {
   "codemirror_mode": {
    "name": "ipython",
    "version": 3
   },
   "file_extension": ".py",
   "mimetype": "text/x-python",
   "name": "python",
   "nbconvert_exporter": "python",
   "pygments_lexer": "ipython3",
   "version": "3.5.1"
  }
 },
 "nbformat": 4,
 "nbformat_minor": 0
}
