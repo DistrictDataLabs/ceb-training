{
 "cells": [
  {
   "cell_type": "code",
   "execution_count": 1,
   "metadata": {
    "collapsed": true
   },
   "outputs": [],
   "source": [
    "%matplotlib inline"
   ]
  },
  {
   "cell_type": "markdown",
   "metadata": {},
   "source": [
    "# BLS Timeseries Data Exploration \n",
    "\n",
    "In this workbook, I've set up a data frame of Bureau of Labor Statistics time series data, your goal is to explore and visualize the time series data using pandas, matplotlib, seaborn, or even Bokeh!"
   ]
  },
  {
   "cell_type": "code",
   "execution_count": 9,
   "metadata": {
    "collapsed": true
   },
   "outputs": [],
   "source": [
    "# Imports \n",
    "import csv \n",
    "import numpy as np \n",
    "import pandas as pd\n",
    "import seaborn as sns \n",
    "import matplotlib.pyplot as plt \n",
    "\n",
    "from itertools import groupby\n",
    "from operator import itemgetter"
   ]
  },
  {
   "cell_type": "markdown",
   "metadata": {},
   "source": [
    "## Data Loading \n",
    "\n",
    "The data is stored in a zip file in the data directory called `data/bls.zip` -- unzip this file and there are two CSV files. The first `series.csv` is a description of the various time series that are in the data frame. The second complete record of the time series data, with the associated time series id. \n",
    "\n",
    "We we load the series information into it's own dataframe for quick lookup (like a database) and then create a dataframe of each individual series data, identified by their ID. There is more information in the CSV, which you can explore if you'd like. "
   ]
  },
  {
   "cell_type": "code",
   "execution_count": 4,
   "metadata": {
    "collapsed": false
   },
   "outputs": [
    {
     "data": {
      "text/html": [
       "<div>\n",
       "<table border=\"1\" class=\"dataframe\">\n",
       "  <thead>\n",
       "    <tr style=\"text-align: right;\">\n",
       "      <th></th>\n",
       "      <th>id</th>\n",
       "      <th>blsid</th>\n",
       "      <th>title</th>\n",
       "      <th>source</th>\n",
       "      <th>is_primary</th>\n",
       "      <th>delta_id</th>\n",
       "      <th>is_delta</th>\n",
       "      <th>is_adjusted</th>\n",
       "    </tr>\n",
       "  </thead>\n",
       "  <tbody>\n",
       "    <tr>\n",
       "      <th>20</th>\n",
       "      <td>1635</td>\n",
       "      <td>LNS14000025</td>\n",
       "      <td>Unemployment Rate - 20 Years &amp; Over Men</td>\n",
       "      <td>CPS</td>\n",
       "      <td>t</td>\n",
       "      <td>1708.0</td>\n",
       "      <td>f</td>\n",
       "      <td>f</td>\n",
       "    </tr>\n",
       "  </tbody>\n",
       "</table>\n",
       "</div>"
      ],
      "text/plain": [
       "      id        blsid                                    title source  \\\n",
       "20  1635  LNS14000025  Unemployment Rate - 20 Years & Over Men    CPS   \n",
       "\n",
       "   is_primary  delta_id is_delta is_adjusted  \n",
       "20          t    1708.0        f           f  "
      ]
     },
     "execution_count": 4,
     "metadata": {},
     "output_type": "execute_result"
    }
   ],
   "source": [
    "# Load the series data \n",
    "info = pd.read_csv('../data/bls/series.csv')\n",
    "\n",
    "def series_info(blsid, info=info):\n",
    "    return info[info.blsid == blsid]\n",
    "\n",
    "# Use this function to lookup specific BLS series info. \n",
    "series_info(\"LNS14000025\")"
   ]
  },
  {
   "cell_type": "code",
   "execution_count": null,
   "metadata": {
    "collapsed": false,
    "scrolled": false
   },
   "outputs": [],
   "source": [
    "# Load each series, grouping by BLS ID\n",
    "def load_series_records(path='../data/bls/records.csv'):\n",
    "    with open(path, 'r') as f:\n",
    "        reader = csv.DictReader(f)\n",
    "        \n",
    "        for blsid, rows in groupby(reader, itemgetter('blsid')):\n",
    "            # Read all the data from the file and sort \n",
    "            rows = list(rows) \n",
    "            rows.sort(key=itemgetter('period'))\n",
    "            \n",
    "            # Extract specific data from each row, namely:\n",
    "            # The period at the month granularity \n",
    "            # The value as a float \n",
    "            periods = [pd.Period(row['period']).asfreq('M') for row in rows]\n",
    "            values = [float(row['value']) for row in rows]\n",
    "            \n",
    "            yield pd.Series(values, index=periods, name=blsid)\n",
    "            \n",
    "\n",
    "series = pd.concat(list(load_series_records()), axis=1)\n",
    "series"
   ]
  }
 ],
 "metadata": {
  "kernelspec": {
   "display_name": "Python 3",
   "language": "python",
   "name": "python3"
  },
  "language_info": {
   "codemirror_mode": {
    "name": "ipython",
    "version": 3
   },
   "file_extension": ".py",
   "mimetype": "text/x-python",
   "name": "python",
   "nbconvert_exporter": "python",
   "pygments_lexer": "ipython3",
   "version": "3.5.1"
  }
 },
 "nbformat": 4,
 "nbformat_minor": 0
}
